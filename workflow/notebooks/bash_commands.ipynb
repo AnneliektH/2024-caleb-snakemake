{
 "cells": [
  {
   "cell_type": "markdown",
   "metadata": {},
   "source": [
    "## Running snakefile\n",
    "- trim + clean reads\n",
    "- assembly\n",
    "- megablast"
   ]
  },
  {
   "cell_type": "code",
   "execution_count": null,
   "metadata": {
    "vscode": {
     "languageId": "plaintext"
    }
   },
   "outputs": [],
   "source": [
    "# install a conda env that contains snakemake\n",
    "https://anaconda.org/bioconda/snakemake"
   ]
  },
  {
   "cell_type": "code",
   "execution_count": null,
   "metadata": {
    "vscode": {
     "languageId": "plaintext"
    }
   },
   "outputs": [],
   "source": [
    "# link all raw reads to a folder in results named raw reads. \n",
    "\n",
    "# make directory for raw reads\n",
    "mkdir results/raw_reads\n",
    "\n",
    "# go into folder\n",
    "cd results/raw_reads\n",
    "\n",
    "# link all raw fasta files for convienience, but to save room we link instead of copy\n",
    "ln -s /group/datalabgrp/ctbrown/chunting/PRRA_raw_reads/i95h0r3pxe/Un_DTSA874/Project_SACH_C0083P_Huntington*.gz ."
   ]
  },
  {
   "cell_type": "markdown",
   "metadata": {},
   "source": [
    "# how to run a snakefile\n",
    "screen\n",
    "srun --account=ctbrowngrp -p med2 -J test_snake -t 1:00:00 -c 6 --mem=30gb --pty bash\n",
    "\n",
    "# go to workflow folder wiht snakfile in it\n",
    "cd workflow/\n",
    "\n",
    "# -n is for dryrun\n",
    "mamba activate snakemake\n",
    "snakemake --use-conda --resources mem_mb=30000 --rerun-triggers mtime -c 6 --rerun-incomplete -k -n"
   ]
  }
 ],
 "metadata": {
  "language_info": {
   "name": "python"
  }
 },
 "nbformat": 4,
 "nbformat_minor": 2
}
